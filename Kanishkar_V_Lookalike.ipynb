{
  "nbformat": 4,
  "nbformat_minor": 0,
  "metadata": {
    "colab": {
      "provenance": [],
      "gpuType": "V28"
    },
    "kernelspec": {
      "name": "python3",
      "display_name": "Python 3"
    },
    "language_info": {
      "name": "python"
    },
    "accelerator": "TPU"
  },
  "cells": [
    {
      "cell_type": "code",
      "execution_count": 23,
      "metadata": {
        "colab": {
          "base_uri": "https://localhost:8080/"
        },
        "id": "oiG_eN6EmSe_",
        "outputId": "9830a1d0-5fc2-47c8-c650-eb9fdea850ed"
      },
      "outputs": [
        {
          "output_type": "stream",
          "name": "stdout",
          "text": [
            "Drive already mounted at /content/drive; to attempt to forcibly remount, call drive.mount(\"/content/drive\", force_remount=True).\n"
          ]
        }
      ],
      "source": [
        "import pandas as pd\n",
        "import numpy as np\n",
        "from sklearn.metrics.pairwise import cosine_similarity\n",
        "from sklearn.preprocessing import StandardScaler,OneHotEncoder\n",
        "from google.colab import drive\n",
        "drive.mount('/content/drive')\n",
        "\n",
        "customers=pd.read_csv('/content/drive/MyDrive/Data Science Project/Customers.csv')\n",
        "products=pd.read_csv('/content/drive/MyDrive/Data Science Project/Products.csv')\n",
        "transactions=pd.read_csv('/content/drive/MyDrive/Data Science Project/Transactions.csv')"
      ]
    },
    {
      "cell_type": "code",
      "source": [
        "data = transactions.merge(customers, on='CustomerID').merge(products, on='ProductID')\n",
        "customer_features = data.groupby('CustomerID').agg({\n",
        "    'TotalValue': 'sum',\n",
        "    'Quantity': 'sum',\n",
        "    'Category': lambda x: x.mode()[0]\n",
        "}).reset_index()\n",
        "encoder = OneHotEncoder(sparse_output=False, handle_unknown='ignore')\n",
        "category_encoded = encoder.fit_transform(customer_features[['Category']])\n",
        "numeric_features = customer_features[['TotalValue', 'Quantity']].values\n",
        "features = pd.DataFrame(\n",
        "    data=np.hstack([numeric_features, category_encoded]),\n",
        "    columns=['TotalValue', 'Quantity'] + list(encoder.get_feature_names_out(['Category']))\n",
        ")\n",
        "scaler = StandardScaler()\n",
        "scaled_features = scaler.fit_transform(features)\n",
        "\n",
        "similarity_matrix = cosine_similarity(scaled_features)\n",
        "recommendations = {}\n",
        "customer_ids = customer_features['CustomerID']\n",
        "for idx, customer_id in enumerate(customer_ids):\n",
        "    if customer_id in [f'C{str(i).zfill(4)}' for i in range(1, 21)]:\n",
        "        similar_customers = sorted(list(enumerate(similarity_matrix[idx])), key=lambda x: x[1], reverse=True)\n",
        "        recommendations[customer_id] = [\n",
        "            (customer_ids.iloc[rec[0]], round(rec[1], 2)) for rec in similar_customers[1:4]\n",
        "        ]\n"
      ],
      "metadata": {
        "id": "t3eqLPnBy9U8"
      },
      "execution_count": 24,
      "outputs": []
    },
    {
      "cell_type": "code",
      "source": [
        "recommendation_list = []\n",
        "for customer_id, similar_customers in recommendations.items():\n",
        "    for recommended_customer, similarity_score in similar_customers:\n",
        "        recommendation_list.append({\n",
        "            'CustomerID': customer_id,\n",
        "            'RecommendedCustomerID': recommended_customer,\n",
        "            'SimilarityScore': similarity_score\n",
        "        })\n",
        "recommendation_df = pd.DataFrame(recommendation_list)\n",
        "recommendation_df.to_csv('Kanishkar_V_Lookalike.csv', index=False)\n",
        "print(\"\\nProcessed data saved as 'Kanishkar_V_Lookalike.csv'.\")"
      ],
      "metadata": {
        "colab": {
          "base_uri": "https://localhost:8080/"
        },
        "id": "dbCyM_1Jzj28",
        "outputId": "def99dbf-c5bb-4eb4-f6d4-e8faa5439d66"
      },
      "execution_count": 25,
      "outputs": [
        {
          "output_type": "stream",
          "name": "stdout",
          "text": [
            "\n",
            "Processed data saved as 'Kanishkar_V_Lookalike.csv'.\n"
          ]
        }
      ]
    }
  ]
}